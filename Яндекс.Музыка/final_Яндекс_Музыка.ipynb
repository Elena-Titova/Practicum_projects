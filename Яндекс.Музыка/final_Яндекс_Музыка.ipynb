{
 "cells": [
  {
   "cell_type": "markdown",
   "metadata": {
    "deletable": false,
    "editable": false,
    "id": "E0vqbgi9ay0H"
   },
   "source": [
    "# Яндекс Музыка"
   ]
  },
  {
   "cell_type": "markdown",
   "metadata": {
    "deletable": false,
    "editable": false,
    "id": "VUC88oWjTJw2"
   },
   "source": [
    "Сравнение Москвы и Петербурга окружено мифами. Например:\n",
    " * Москва — мегаполис, подчинённый жёсткому ритму рабочей недели;\n",
    " * Петербург — культурная столица, со своими вкусами.\n",
    "\n",
    "На данных Яндекс Музыки проведем сравнение поведения пользователей двух столиц.\n",
    "\n",
    "**Цель исследования** — проверить три гипотезы:\n",
    "1. Активность пользователей зависит от дня недели. Причём в Москве и Петербурге это проявляется по-разному.\n",
    "2. В понедельник утром в Москве преобладают одни жанры, а в Петербурге — другие. Так же и вечером пятницы преобладают разные жанры — в зависимости от города.\n",
    "3. Москва и Петербург предпочитают разные жанры музыки. В Москве чаще слушают поп-музыку, в Петербурге — русский рэп.\n",
    "\n",
    "**Ход исследования**\n",
    "\n",
    "Данные о поведении пользователей были получены из файла `yandex_music_project.csv`. О качестве данных ничего не известно. Поэтому перед проверкой гипотез понадобится обзор данных.\n",
    "\n",
    "Данные будут проверены на ошибки, после чего оценим их влияние на исследование. Затем, на этапе предобработки постараемся найти возможность исправить самые критичные ошибки данных.\n",
    "\n",
    "Таким образом, исследование пройдёт в три этапа:\n",
    " 1. Обзор данных.\n",
    " 2. Предобработка данных.\n",
    " 3. Проверка гипотез.\n",
    "\n"
   ]
  },
  {
   "cell_type": "markdown",
   "metadata": {
    "deletable": false,
    "editable": false,
    "id": "Ml1hmfXC_Zcs"
   },
   "source": [
    "## Обзор данных\n",
    "\n",
    "Составим первое представление о данных Яндекс Музыки.\n"
   ]
  },
  {
   "cell_type": "code",
   "execution_count": null,
   "metadata": {
    "deletable": false,
    "id": "AXN7PHPN_Zcs"
   },
   "outputs": [],
   "source": [
    "# импорт библиотеки pandas (в сокращенной форме pd)\n",
    "import pandas as pd"
   ]
  },
  {
   "cell_type": "code",
   "execution_count": null,
   "metadata": {
    "deletable": false,
    "id": "fFVu7vqh_Zct"
   },
   "outputs": [],
   "source": [
    "# чтение файла с данными и сохранение в df\n",
    "df = pd.read_csv ('/datasets/yandex_music_project.csv')"
   ]
  },
  {
   "cell_type": "code",
   "execution_count": null,
   "metadata": {
    "deletable": false,
    "id": "oWTVX3gW_Zct"
   },
   "outputs": [
    {
     "data": {
      "text/html": [
       "<div>\n",
       "<style scoped>\n",
       "    .dataframe tbody tr th:only-of-type {\n",
       "        vertical-align: middle;\n",
       "    }\n",
       "\n",
       "    .dataframe tbody tr th {\n",
       "        vertical-align: top;\n",
       "    }\n",
       "\n",
       "    .dataframe thead th {\n",
       "        text-align: right;\n",
       "    }\n",
       "</style>\n",
       "<table border=\"1\" class=\"dataframe\">\n",
       "  <thead>\n",
       "    <tr style=\"text-align: right;\">\n",
       "      <th></th>\n",
       "      <th>userID</th>\n",
       "      <th>Track</th>\n",
       "      <th>artist</th>\n",
       "      <th>genre</th>\n",
       "      <th>City</th>\n",
       "      <th>time</th>\n",
       "      <th>Day</th>\n",
       "    </tr>\n",
       "  </thead>\n",
       "  <tbody>\n",
       "    <tr>\n",
       "      <th>0</th>\n",
       "      <td>FFB692EC</td>\n",
       "      <td>Kamigata To Boots</td>\n",
       "      <td>The Mass Missile</td>\n",
       "      <td>rock</td>\n",
       "      <td>Saint-Petersburg</td>\n",
       "      <td>20:28:33</td>\n",
       "      <td>Wednesday</td>\n",
       "    </tr>\n",
       "    <tr>\n",
       "      <th>1</th>\n",
       "      <td>55204538</td>\n",
       "      <td>Delayed Because of Accident</td>\n",
       "      <td>Andreas Rönnberg</td>\n",
       "      <td>rock</td>\n",
       "      <td>Moscow</td>\n",
       "      <td>14:07:09</td>\n",
       "      <td>Friday</td>\n",
       "    </tr>\n",
       "    <tr>\n",
       "      <th>2</th>\n",
       "      <td>20EC38</td>\n",
       "      <td>Funiculì funiculà</td>\n",
       "      <td>Mario Lanza</td>\n",
       "      <td>pop</td>\n",
       "      <td>Saint-Petersburg</td>\n",
       "      <td>20:58:07</td>\n",
       "      <td>Wednesday</td>\n",
       "    </tr>\n",
       "    <tr>\n",
       "      <th>3</th>\n",
       "      <td>A3DD03C9</td>\n",
       "      <td>Dragons in the Sunset</td>\n",
       "      <td>Fire + Ice</td>\n",
       "      <td>folk</td>\n",
       "      <td>Saint-Petersburg</td>\n",
       "      <td>08:37:09</td>\n",
       "      <td>Monday</td>\n",
       "    </tr>\n",
       "    <tr>\n",
       "      <th>4</th>\n",
       "      <td>E2DC1FAE</td>\n",
       "      <td>Soul People</td>\n",
       "      <td>Space Echo</td>\n",
       "      <td>dance</td>\n",
       "      <td>Moscow</td>\n",
       "      <td>08:34:34</td>\n",
       "      <td>Monday</td>\n",
       "    </tr>\n",
       "    <tr>\n",
       "      <th>5</th>\n",
       "      <td>842029A1</td>\n",
       "      <td>Преданная</td>\n",
       "      <td>IMPERVTOR</td>\n",
       "      <td>rusrap</td>\n",
       "      <td>Saint-Petersburg</td>\n",
       "      <td>13:09:41</td>\n",
       "      <td>Friday</td>\n",
       "    </tr>\n",
       "    <tr>\n",
       "      <th>6</th>\n",
       "      <td>4CB90AA5</td>\n",
       "      <td>True</td>\n",
       "      <td>Roman Messer</td>\n",
       "      <td>dance</td>\n",
       "      <td>Moscow</td>\n",
       "      <td>13:00:07</td>\n",
       "      <td>Wednesday</td>\n",
       "    </tr>\n",
       "    <tr>\n",
       "      <th>7</th>\n",
       "      <td>F03E1C1F</td>\n",
       "      <td>Feeling This Way</td>\n",
       "      <td>Polina Griffith</td>\n",
       "      <td>dance</td>\n",
       "      <td>Moscow</td>\n",
       "      <td>20:47:49</td>\n",
       "      <td>Wednesday</td>\n",
       "    </tr>\n",
       "    <tr>\n",
       "      <th>8</th>\n",
       "      <td>8FA1D3BE</td>\n",
       "      <td>И вновь продолжается бой</td>\n",
       "      <td>NaN</td>\n",
       "      <td>ruspop</td>\n",
       "      <td>Moscow</td>\n",
       "      <td>09:17:40</td>\n",
       "      <td>Friday</td>\n",
       "    </tr>\n",
       "    <tr>\n",
       "      <th>9</th>\n",
       "      <td>E772D5C0</td>\n",
       "      <td>Pessimist</td>\n",
       "      <td>NaN</td>\n",
       "      <td>dance</td>\n",
       "      <td>Saint-Petersburg</td>\n",
       "      <td>21:20:49</td>\n",
       "      <td>Wednesday</td>\n",
       "    </tr>\n",
       "  </tbody>\n",
       "</table>\n",
       "</div>"
      ],
      "text/plain": [
       "     userID                        Track            artist   genre  \\\n",
       "0  FFB692EC            Kamigata To Boots  The Mass Missile    rock   \n",
       "1  55204538  Delayed Because of Accident  Andreas Rönnberg    rock   \n",
       "2    20EC38            Funiculì funiculà       Mario Lanza     pop   \n",
       "3  A3DD03C9        Dragons in the Sunset        Fire + Ice    folk   \n",
       "4  E2DC1FAE                  Soul People        Space Echo   dance   \n",
       "5  842029A1                    Преданная         IMPERVTOR  rusrap   \n",
       "6  4CB90AA5                         True      Roman Messer   dance   \n",
       "7  F03E1C1F             Feeling This Way   Polina Griffith   dance   \n",
       "8  8FA1D3BE     И вновь продолжается бой               NaN  ruspop   \n",
       "9  E772D5C0                    Pessimist               NaN   dance   \n",
       "\n",
       "             City        time        Day  \n",
       "0  Saint-Petersburg  20:28:33  Wednesday  \n",
       "1            Moscow  14:07:09     Friday  \n",
       "2  Saint-Petersburg  20:58:07  Wednesday  \n",
       "3  Saint-Petersburg  08:37:09     Monday  \n",
       "4            Moscow  08:34:34     Monday  \n",
       "5  Saint-Petersburg  13:09:41     Friday  \n",
       "6            Moscow  13:00:07  Wednesday  \n",
       "7            Moscow  20:47:49  Wednesday  \n",
       "8            Moscow  09:17:40     Friday  \n",
       "9  Saint-Petersburg  21:20:49  Wednesday  "
      ]
     },
     "execution_count": 3,
     "metadata": {},
     "output_type": "execute_result"
    }
   ],
   "source": [
    "# получение первых 10 строк таблицы df\n",
    "df.head(10)"
   ]
  },
  {
   "cell_type": "code",
   "execution_count": null,
   "metadata": {
    "deletable": false,
    "id": "DSf2kIb-_Zct",
    "scrolled": true
   },
   "outputs": [
    {
     "name": "stdout",
     "output_type": "stream",
     "text": [
      "<class 'pandas.core.frame.DataFrame'>\n",
      "RangeIndex: 65079 entries, 0 to 65078\n",
      "Data columns (total 7 columns):\n",
      " #   Column    Non-Null Count  Dtype \n",
      "---  ------    --------------  ----- \n",
      " 0     userID  65079 non-null  object\n",
      " 1   Track     63848 non-null  object\n",
      " 2   artist    57876 non-null  object\n",
      " 3   genre     63881 non-null  object\n",
      " 4     City    65079 non-null  object\n",
      " 5   time      65079 non-null  object\n",
      " 6   Day       65079 non-null  object\n",
      "dtypes: object(7)\n",
      "memory usage: 3.5+ MB\n"
     ]
    }
   ],
   "source": [
    "# получение общей информации о данных в таблице df\n",
    "df.info()"
   ]
  },
  {
   "cell_type": "markdown",
   "metadata": {
    "deletable": false,
    "editable": false,
    "id": "TaQ2Iwbr_Zct"
   },
   "source": [
    "Количество значений в столбцах различается. Значит, в данных есть пропущенные значения."
   ]
  },
  {
   "cell_type": "markdown",
   "metadata": {},
   "source": [
    "В названиях колонок видны три нарушения стиля:\n",
    " - cтрочные буквы сочетаются с прописными;\n",
    " - встречаются пробелы;\n",
    " - в названиях столбцов лучше использовать \"змеиный\" регистр (например, user_id через нижнее подчеркивание),также в названиях столбцов встречаются \"неговорящие\" имена, например, нет конкретики, что за время и день указаны (непонятно, что это время начала прослушивания, а не, например, длительность трека)"
   ]
  },
  {
   "cell_type": "markdown",
   "metadata": {
    "deletable": false,
    "editable": false,
    "id": "MCB6-dXG_Zct"
   },
   "source": [
    "**Промежуточные выводы**\n",
    "\n",
    "В каждой строке таблицы — данные о прослушанном треке. Часть колонок описывает саму композицию: название, исполнителя и жанр. Остальные данные рассказывают о пользователе: из какого он города, когда он слушал музыку.\n",
    "\n",
    "Предварительно можно утверждать, что данных достаточно для проверки гипотез. Но встречаются пропуски в данных, а в названиях колонок — расхождения с хорошим стилем.\n",
    "\n",
    "Чтобы двигаться дальше, нужно устранить проблемы в данных."
   ]
  },
  {
   "cell_type": "markdown",
   "metadata": {
    "deletable": false,
    "editable": false,
    "id": "SjYF6Ub9_Zct"
   },
   "source": [
    "## Предобработка данных"
   ]
  },
  {
   "cell_type": "markdown",
   "metadata": {
    "deletable": false,
    "editable": false,
    "id": "dIaKXr29_Zct",
    "tags": [
     "start_task"
    ]
   },
   "source": [
    "### Переименование столбцов"
   ]
  },
  {
   "cell_type": "code",
   "execution_count": 6,
   "metadata": {
    "deletable": false,
    "id": "oKOTdF_Q_Zct"
   },
   "outputs": [
    {
     "data": {
      "text/plain": [
       "Index(['  userID', 'Track', 'artist', 'genre', '  City  ', 'time', 'Day'], dtype='object')"
      ]
     },
     "execution_count": 6,
     "metadata": {},
     "output_type": "execute_result"
    }
   ],
   "source": [
    "# перечень названий столбцов таблицы df\n",
    "df.columns"
   ]
  },
  {
   "cell_type": "code",
   "execution_count": 7,
   "metadata": {
    "deletable": false,
    "id": "ISlFqs5y_Zct"
   },
   "outputs": [],
   "source": [
    "# переименование столбцов\n",
    "df = df.rename(columns = {'  userID':'user_id', 'Track':'track', '  City  ':'city', 'Day':'day'})"
   ]
  },
  {
   "cell_type": "code",
   "execution_count": 8,
   "metadata": {
    "deletable": false,
    "id": "d4NOAmTW_Zct"
   },
   "outputs": [
    {
     "data": {
      "text/plain": [
       "Index(['user_id', 'track', 'artist', 'genre', 'city', 'time', 'day'], dtype='object')"
      ]
     },
     "execution_count": 8,
     "metadata": {},
     "output_type": "execute_result"
    }
   ],
   "source": [
    "# проверка результатов - перечень названий столбцов\n",
    "df.columns"
   ]
  },
  {
   "cell_type": "markdown",
   "metadata": {
    "deletable": false,
    "editable": false,
    "id": "5ISfbcfY_Zct",
    "tags": [
     "start_task"
    ]
   },
   "source": [
    "### Обработка пропущенных значений\n"
   ]
  },
  {
   "cell_type": "code",
   "execution_count": 9,
   "metadata": {
    "deletable": false,
    "id": "RskX29qr_Zct"
   },
   "outputs": [
    {
     "name": "stdout",
     "output_type": "stream",
     "text": [
      "user_id       0\n",
      "track      1231\n",
      "artist     7203\n",
      "genre      1198\n",
      "city          0\n",
      "time          0\n",
      "day           0\n",
      "dtype: int64\n"
     ]
    }
   ],
   "source": [
    "# подсчёт пропусков\n",
    "print (df.isna().sum())"
   ]
  },
  {
   "cell_type": "code",
   "execution_count": 10,
   "metadata": {
    "deletable": false,
    "id": "KplB5qWs_Zct",
    "scrolled": true
   },
   "outputs": [
    {
     "data": {
      "text/html": [
       "<div>\n",
       "<style scoped>\n",
       "    .dataframe tbody tr th:only-of-type {\n",
       "        vertical-align: middle;\n",
       "    }\n",
       "\n",
       "    .dataframe tbody tr th {\n",
       "        vertical-align: top;\n",
       "    }\n",
       "\n",
       "    .dataframe thead th {\n",
       "        text-align: right;\n",
       "    }\n",
       "</style>\n",
       "<table border=\"1\" class=\"dataframe\">\n",
       "  <thead>\n",
       "    <tr style=\"text-align: right;\">\n",
       "      <th></th>\n",
       "      <th>user_id</th>\n",
       "      <th>track</th>\n",
       "      <th>artist</th>\n",
       "      <th>genre</th>\n",
       "      <th>city</th>\n",
       "      <th>time</th>\n",
       "      <th>day</th>\n",
       "    </tr>\n",
       "  </thead>\n",
       "  <tbody>\n",
       "    <tr>\n",
       "      <th>0</th>\n",
       "      <td>FFB692EC</td>\n",
       "      <td>Kamigata To Boots</td>\n",
       "      <td>The Mass Missile</td>\n",
       "      <td>rock</td>\n",
       "      <td>Saint-Petersburg</td>\n",
       "      <td>20:28:33</td>\n",
       "      <td>Wednesday</td>\n",
       "    </tr>\n",
       "    <tr>\n",
       "      <th>1</th>\n",
       "      <td>55204538</td>\n",
       "      <td>Delayed Because of Accident</td>\n",
       "      <td>Andreas Rönnberg</td>\n",
       "      <td>rock</td>\n",
       "      <td>Moscow</td>\n",
       "      <td>14:07:09</td>\n",
       "      <td>Friday</td>\n",
       "    </tr>\n",
       "    <tr>\n",
       "      <th>2</th>\n",
       "      <td>20EC38</td>\n",
       "      <td>Funiculì funiculà</td>\n",
       "      <td>Mario Lanza</td>\n",
       "      <td>pop</td>\n",
       "      <td>Saint-Petersburg</td>\n",
       "      <td>20:58:07</td>\n",
       "      <td>Wednesday</td>\n",
       "    </tr>\n",
       "    <tr>\n",
       "      <th>3</th>\n",
       "      <td>A3DD03C9</td>\n",
       "      <td>Dragons in the Sunset</td>\n",
       "      <td>Fire + Ice</td>\n",
       "      <td>folk</td>\n",
       "      <td>Saint-Petersburg</td>\n",
       "      <td>08:37:09</td>\n",
       "      <td>Monday</td>\n",
       "    </tr>\n",
       "    <tr>\n",
       "      <th>4</th>\n",
       "      <td>E2DC1FAE</td>\n",
       "      <td>Soul People</td>\n",
       "      <td>Space Echo</td>\n",
       "      <td>dance</td>\n",
       "      <td>Moscow</td>\n",
       "      <td>08:34:34</td>\n",
       "      <td>Monday</td>\n",
       "    </tr>\n",
       "    <tr>\n",
       "      <th>...</th>\n",
       "      <td>...</td>\n",
       "      <td>...</td>\n",
       "      <td>...</td>\n",
       "      <td>...</td>\n",
       "      <td>...</td>\n",
       "      <td>...</td>\n",
       "      <td>...</td>\n",
       "    </tr>\n",
       "    <tr>\n",
       "      <th>65074</th>\n",
       "      <td>729CBB09</td>\n",
       "      <td>My Name</td>\n",
       "      <td>McLean</td>\n",
       "      <td>rnb</td>\n",
       "      <td>Moscow</td>\n",
       "      <td>13:32:28</td>\n",
       "      <td>Wednesday</td>\n",
       "    </tr>\n",
       "    <tr>\n",
       "      <th>65075</th>\n",
       "      <td>D08D4A55</td>\n",
       "      <td>Maybe One Day (feat. Black Spade)</td>\n",
       "      <td>Blu &amp; Exile</td>\n",
       "      <td>hip</td>\n",
       "      <td>Saint-Petersburg</td>\n",
       "      <td>10:00:00</td>\n",
       "      <td>Monday</td>\n",
       "    </tr>\n",
       "    <tr>\n",
       "      <th>65076</th>\n",
       "      <td>C5E3A0D5</td>\n",
       "      <td>Jalopiina</td>\n",
       "      <td>unknown</td>\n",
       "      <td>industrial</td>\n",
       "      <td>Moscow</td>\n",
       "      <td>20:09:26</td>\n",
       "      <td>Friday</td>\n",
       "    </tr>\n",
       "    <tr>\n",
       "      <th>65077</th>\n",
       "      <td>321D0506</td>\n",
       "      <td>Freight Train</td>\n",
       "      <td>Chas McDevitt</td>\n",
       "      <td>rock</td>\n",
       "      <td>Moscow</td>\n",
       "      <td>21:43:59</td>\n",
       "      <td>Friday</td>\n",
       "    </tr>\n",
       "    <tr>\n",
       "      <th>65078</th>\n",
       "      <td>3A64EF84</td>\n",
       "      <td>Tell Me Sweet Little Lies</td>\n",
       "      <td>Monica Lopez</td>\n",
       "      <td>country</td>\n",
       "      <td>Moscow</td>\n",
       "      <td>21:59:46</td>\n",
       "      <td>Friday</td>\n",
       "    </tr>\n",
       "  </tbody>\n",
       "</table>\n",
       "<p>65079 rows × 7 columns</p>\n",
       "</div>"
      ],
      "text/plain": [
       "        user_id                              track            artist  \\\n",
       "0      FFB692EC                  Kamigata To Boots  The Mass Missile   \n",
       "1      55204538        Delayed Because of Accident  Andreas Rönnberg   \n",
       "2        20EC38                  Funiculì funiculà       Mario Lanza   \n",
       "3      A3DD03C9              Dragons in the Sunset        Fire + Ice   \n",
       "4      E2DC1FAE                        Soul People        Space Echo   \n",
       "...         ...                                ...               ...   \n",
       "65074  729CBB09                            My Name            McLean   \n",
       "65075  D08D4A55  Maybe One Day (feat. Black Spade)       Blu & Exile   \n",
       "65076  C5E3A0D5                          Jalopiina           unknown   \n",
       "65077  321D0506                      Freight Train     Chas McDevitt   \n",
       "65078  3A64EF84          Tell Me Sweet Little Lies      Monica Lopez   \n",
       "\n",
       "            genre              city      time        day  \n",
       "0            rock  Saint-Petersburg  20:28:33  Wednesday  \n",
       "1            rock            Moscow  14:07:09     Friday  \n",
       "2             pop  Saint-Petersburg  20:58:07  Wednesday  \n",
       "3            folk  Saint-Petersburg  08:37:09     Monday  \n",
       "4           dance            Moscow  08:34:34     Monday  \n",
       "...           ...               ...       ...        ...  \n",
       "65074         rnb            Moscow  13:32:28  Wednesday  \n",
       "65075         hip  Saint-Petersburg  10:00:00     Monday  \n",
       "65076  industrial            Moscow  20:09:26     Friday  \n",
       "65077        rock            Moscow  21:43:59     Friday  \n",
       "65078     country            Moscow  21:59:46     Friday  \n",
       "\n",
       "[65079 rows x 7 columns]"
      ]
     },
     "execution_count": 10,
     "metadata": {},
     "output_type": "execute_result"
    }
   ],
   "source": [
    "# замена пропущенных значений на 'unknown'\n",
    "columns_to_replace = ['track', 'artist', 'genre']\n",
    "for columns in columns_to_replace:\n",
    "    df[columns] = df[columns].fillna('unknown')\n",
    "df\n",
    "# в результате, например, видим, что в строке 65076 в столбце 'artist' значение 'unknown'.   "
   ]
  },
  {
   "cell_type": "code",
   "execution_count": 11,
   "metadata": {
    "deletable": false,
    "id": "Tq4nYRX4_Zct"
   },
   "outputs": [
    {
     "name": "stdout",
     "output_type": "stream",
     "text": [
      "user_id    0\n",
      "track      0\n",
      "artist     0\n",
      "genre      0\n",
      "city       0\n",
      "time       0\n",
      "day        0\n",
      "dtype: int64\n"
     ]
    }
   ],
   "source": [
    "# проверка на отсутствие пропусков\n",
    "print (df.isna().sum())\n",
    "# в результате выполнения видим, что в каждом столбце 0 пропусков, соответственно, замена выполнена"
   ]
  },
  {
   "cell_type": "markdown",
   "metadata": {
    "deletable": false,
    "editable": false,
    "id": "BWKRtBJ3_Zct",
    "tags": [
     "start_task"
    ]
   },
   "source": [
    "### Обработка дубликатов\n"
   ]
  },
  {
   "cell_type": "code",
   "execution_count": 12,
   "metadata": {
    "deletable": false,
    "id": "36eES_S0_Zct"
   },
   "outputs": [
    {
     "name": "stdout",
     "output_type": "stream",
     "text": [
      "3826\n"
     ]
    }
   ],
   "source": [
    "# подсчёт явных дубликатов\n",
    "print (df.duplicated().sum())"
   ]
  },
  {
   "cell_type": "code",
   "execution_count": 13,
   "metadata": {
    "deletable": false,
    "id": "exFHq6tt_Zct"
   },
   "outputs": [],
   "source": [
    "# удаление явных дубликатов, создание новых индексов и удаление старых\n",
    "df = df.drop_duplicates().reset_index(drop = True)\n",
    "#drop_duplicates () удаляет явные дубликаты, reset_index() - обновляет индексацию, при указании параметра \"drop = True\" удаляется предыдущий индекс"
   ]
  },
  {
   "cell_type": "code",
   "execution_count": 14,
   "metadata": {
    "deletable": false,
    "id": "-8PuNWQ0_Zct"
   },
   "outputs": [
    {
     "name": "stdout",
     "output_type": "stream",
     "text": [
      "0\n"
     ]
    }
   ],
   "source": [
    "# проверка на отсутствие явных дубликатов\n",
    "print (df.duplicated().sum())\n",
    "# результат выполнения = 0, то есть дубликатов нет"
   ]
  },
  {
   "cell_type": "code",
   "execution_count": 15,
   "metadata": {
    "deletable": false,
    "id": "JIUcqzZN_Zct"
   },
   "outputs": [
    {
     "name": "stdout",
     "output_type": "stream",
     "text": [
      "['acid' 'acoustic' 'action' 'adult' 'africa' 'afrikaans' 'alternative'\n",
      " 'alternativepunk' 'ambient' 'americana' 'animated' 'anime' 'arabesk'\n",
      " 'arabic' 'arena' 'argentinetango' 'art' 'audiobook' 'author' 'avantgarde'\n",
      " 'axé' 'baile' 'balkan' 'beats' 'bigroom' 'black' 'bluegrass' 'blues'\n",
      " 'bollywood' 'bossa' 'brazilian' 'breakbeat' 'breaks' 'broadway'\n",
      " 'cantautori' 'cantopop' 'canzone' 'caribbean' 'caucasian' 'celtic'\n",
      " 'chamber' 'chanson' 'children' 'chill' 'chinese' 'choral' 'christian'\n",
      " 'christmas' 'classical' 'classicmetal' 'club' 'colombian' 'comedy'\n",
      " 'conjazz' 'contemporary' 'country' 'cuban' 'dance' 'dancehall' 'dancepop'\n",
      " 'dark' 'death' 'deep' 'deutschrock' 'deutschspr' 'dirty' 'disco' 'dnb'\n",
      " 'documentary' 'downbeat' 'downtempo' 'drum' 'dub' 'dubstep' 'eastern'\n",
      " 'easy' 'electronic' 'electropop' 'emo' 'entehno' 'epicmetal' 'estrada'\n",
      " 'ethnic' 'eurofolk' 'european' 'experimental' 'extrememetal' 'fado'\n",
      " 'fairytail' 'film' 'fitness' 'flamenco' 'folk' 'folklore' 'folkmetal'\n",
      " 'folkrock' 'folktronica' 'forró' 'frankreich' 'französisch' 'french'\n",
      " 'funk' 'future' 'gangsta' 'garage' 'german' 'ghazal' 'gitarre' 'glitch'\n",
      " 'gospel' 'gothic' 'grime' 'grunge' 'gypsy' 'handsup' \"hard'n'heavy\"\n",
      " 'hardcore' 'hardstyle' 'hardtechno' 'hip' 'hip-hop' 'hiphop' 'historisch'\n",
      " 'holiday' 'hop' 'horror' 'house' 'hymn' 'idm' 'independent' 'indian'\n",
      " 'indie' 'indipop' 'industrial' 'inspirational' 'instrumental'\n",
      " 'international' 'irish' 'jam' 'japanese' 'jazz' 'jewish' 'jpop' 'jungle'\n",
      " 'k-pop' 'karadeniz' 'karaoke' 'kayokyoku' 'korean' 'laiko' 'latin'\n",
      " 'latino' 'leftfield' 'local' 'lounge' 'loungeelectronic' 'lovers'\n",
      " 'malaysian' 'mandopop' 'marschmusik' 'meditative' 'mediterranean'\n",
      " 'melodic' 'metal' 'metalcore' 'mexican' 'middle' 'minimal'\n",
      " 'miscellaneous' 'modern' 'mood' 'mpb' 'muslim' 'native' 'neoklassik'\n",
      " 'neue' 'new' 'newage' 'newwave' 'nu' 'nujazz' 'numetal' 'oceania' 'old'\n",
      " 'opera' 'orchestral' 'other' 'piano' 'podcasts' 'pop' 'popdance'\n",
      " 'popelectronic' 'popeurodance' 'poprussian' 'post' 'posthardcore'\n",
      " 'postrock' 'power' 'progmetal' 'progressive' 'psychedelic' 'punjabi'\n",
      " 'punk' 'quebecois' 'ragga' 'ram' 'rancheras' 'rap' 'rave' 'reggae'\n",
      " 'reggaeton' 'regional' 'relax' 'religious' 'retro' 'rhythm' 'rnb' 'rnr'\n",
      " 'rock' 'rockabilly' 'rockalternative' 'rockindie' 'rockother' 'romance'\n",
      " 'roots' 'ruspop' 'rusrap' 'rusrock' 'russian' 'salsa' 'samba' 'scenic'\n",
      " 'schlager' 'self' 'sertanejo' 'shanson' 'shoegazing' 'showtunes' 'singer'\n",
      " 'ska' 'skarock' 'slow' 'smooth' 'soft' 'soul' 'soulful' 'sound'\n",
      " 'soundtrack' 'southern' 'specialty' 'speech' 'spiritual' 'sport'\n",
      " 'stonerrock' 'surf' 'swing' 'synthpop' 'synthrock' 'sängerportrait'\n",
      " 'tango' 'tanzorchester' 'taraftar' 'tatar' 'tech' 'techno' 'teen'\n",
      " 'thrash' 'top' 'traditional' 'tradjazz' 'trance' 'tribal' 'trip'\n",
      " 'triphop' 'tropical' 'türk' 'türkçe' 'ukrrock' 'unknown' 'urban' 'uzbek'\n",
      " 'variété' 'vi' 'videogame' 'vocal' 'western' 'world' 'worldbeat' 'ïîï'\n",
      " 'электроника']\n"
     ]
    }
   ],
   "source": [
    "# просмотр уникальных отсортированных названий жанров\n",
    "print (df.sort_values(by = 'genre')['genre'].unique())"
   ]
  },
  {
   "cell_type": "code",
   "execution_count": 16,
   "metadata": {
    "deletable": false,
    "id": "ErNDkmns_Zct"
   },
   "outputs": [],
   "source": [
    "# устранение неявных дубликатов\n",
    "duplicates_list = ['hip', 'hop', 'hip-hop']\n",
    "for duplicates in duplicates_list:\n",
    "    df['genre'] = df['genre'].replace (duplicates, 'hiphop')"
   ]
  },
  {
   "cell_type": "code",
   "execution_count": 17,
   "metadata": {
    "deletable": false,
    "id": "wvixALnFG15m"
   },
   "outputs": [
    {
     "name": "stdout",
     "output_type": "stream",
     "text": [
      "['acid' 'acoustic' 'action' 'adult' 'africa' 'afrikaans' 'alternative'\n",
      " 'alternativepunk' 'ambient' 'americana' 'animated' 'anime' 'arabesk'\n",
      " 'arabic' 'arena' 'argentinetango' 'art' 'audiobook' 'author' 'avantgarde'\n",
      " 'axé' 'baile' 'balkan' 'beats' 'bigroom' 'black' 'bluegrass' 'blues'\n",
      " 'bollywood' 'bossa' 'brazilian' 'breakbeat' 'breaks' 'broadway'\n",
      " 'cantautori' 'cantopop' 'canzone' 'caribbean' 'caucasian' 'celtic'\n",
      " 'chamber' 'chanson' 'children' 'chill' 'chinese' 'choral' 'christian'\n",
      " 'christmas' 'classical' 'classicmetal' 'club' 'colombian' 'comedy'\n",
      " 'conjazz' 'contemporary' 'country' 'cuban' 'dance' 'dancehall' 'dancepop'\n",
      " 'dark' 'death' 'deep' 'deutschrock' 'deutschspr' 'dirty' 'disco' 'dnb'\n",
      " 'documentary' 'downbeat' 'downtempo' 'drum' 'dub' 'dubstep' 'eastern'\n",
      " 'easy' 'electronic' 'electropop' 'emo' 'entehno' 'epicmetal' 'estrada'\n",
      " 'ethnic' 'eurofolk' 'european' 'experimental' 'extrememetal' 'fado'\n",
      " 'fairytail' 'film' 'fitness' 'flamenco' 'folk' 'folklore' 'folkmetal'\n",
      " 'folkrock' 'folktronica' 'forró' 'frankreich' 'französisch' 'french'\n",
      " 'funk' 'future' 'gangsta' 'garage' 'german' 'ghazal' 'gitarre' 'glitch'\n",
      " 'gospel' 'gothic' 'grime' 'grunge' 'gypsy' 'handsup' \"hard'n'heavy\"\n",
      " 'hardcore' 'hardstyle' 'hardtechno' 'hiphop' 'historisch' 'holiday'\n",
      " 'horror' 'house' 'hymn' 'idm' 'independent' 'indian' 'indie' 'indipop'\n",
      " 'industrial' 'inspirational' 'instrumental' 'international' 'irish' 'jam'\n",
      " 'japanese' 'jazz' 'jewish' 'jpop' 'jungle' 'k-pop' 'karadeniz' 'karaoke'\n",
      " 'kayokyoku' 'korean' 'laiko' 'latin' 'latino' 'leftfield' 'local'\n",
      " 'lounge' 'loungeelectronic' 'lovers' 'malaysian' 'mandopop' 'marschmusik'\n",
      " 'meditative' 'mediterranean' 'melodic' 'metal' 'metalcore' 'mexican'\n",
      " 'middle' 'minimal' 'miscellaneous' 'modern' 'mood' 'mpb' 'muslim'\n",
      " 'native' 'neoklassik' 'neue' 'new' 'newage' 'newwave' 'nu' 'nujazz'\n",
      " 'numetal' 'oceania' 'old' 'opera' 'orchestral' 'other' 'piano' 'podcasts'\n",
      " 'pop' 'popdance' 'popelectronic' 'popeurodance' 'poprussian' 'post'\n",
      " 'posthardcore' 'postrock' 'power' 'progmetal' 'progressive' 'psychedelic'\n",
      " 'punjabi' 'punk' 'quebecois' 'ragga' 'ram' 'rancheras' 'rap' 'rave'\n",
      " 'reggae' 'reggaeton' 'regional' 'relax' 'religious' 'retro' 'rhythm'\n",
      " 'rnb' 'rnr' 'rock' 'rockabilly' 'rockalternative' 'rockindie' 'rockother'\n",
      " 'romance' 'roots' 'ruspop' 'rusrap' 'rusrock' 'russian' 'salsa' 'samba'\n",
      " 'scenic' 'schlager' 'self' 'sertanejo' 'shanson' 'shoegazing' 'showtunes'\n",
      " 'singer' 'ska' 'skarock' 'slow' 'smooth' 'soft' 'soul' 'soulful' 'sound'\n",
      " 'soundtrack' 'southern' 'specialty' 'speech' 'spiritual' 'sport'\n",
      " 'stonerrock' 'surf' 'swing' 'synthpop' 'synthrock' 'sängerportrait'\n",
      " 'tango' 'tanzorchester' 'taraftar' 'tatar' 'tech' 'techno' 'teen'\n",
      " 'thrash' 'top' 'traditional' 'tradjazz' 'trance' 'tribal' 'trip'\n",
      " 'triphop' 'tropical' 'türk' 'türkçe' 'ukrrock' 'unknown' 'urban' 'uzbek'\n",
      " 'variété' 'vi' 'videogame' 'vocal' 'western' 'world' 'worldbeat' 'ïîï'\n",
      " 'электроника']\n"
     ]
    }
   ],
   "source": [
    "# проверка на отсутствие неявных дубликатов\n",
    "print (df.sort_values(by = 'genre')['genre'].unique())"
   ]
  },
  {
   "cell_type": "markdown",
   "metadata": {
    "deletable": false,
    "editable": false,
    "id": "jz6a9-7HQUDd"
   },
   "source": [
    "**Промежуточные выводы**\n",
    "\n",
    "Предобработка обнаружила три проблемы в данных:\n",
    "\n",
    "- нарушения в стиле заголовков,\n",
    "- пропущенные значения,\n",
    "- дубликаты — явные и неявные.\n",
    "\n",
    "Мы исправили заголовки, чтобы упростить работу с таблицей. Без дубликатов исследование станет более точным.\n",
    "\n",
    "Пропущенные значения заменили на `'unknown'`. Ещё предстоит увидеть, не повредят ли исследованию пропуски в колонке `genre`.\n",
    "\n",
    "Теперь можно перейти к проверке гипотез."
   ]
  },
  {
   "cell_type": "markdown",
   "metadata": {
    "deletable": false,
    "editable": false,
    "id": "WttZHXH0SqKk"
   },
   "source": [
    "## Проверка гипотез"
   ]
  },
  {
   "cell_type": "markdown",
   "metadata": {
    "deletable": false,
    "editable": false,
    "id": "Im936VVi_Zcu"
   },
   "source": [
    "### Сравнение поведения пользователей двух столиц"
   ]
  },
  {
   "cell_type": "markdown",
   "metadata": {
    "deletable": false,
    "editable": false,
    "id": "nwt_MuaL_Zcu"
   },
   "source": [
    "Первая гипотеза утверждает, что пользователи по-разному слушают музыку в Москве и Санкт-Петербурге. Проверим это предположение по данным о трёх днях недели — понедельнике, среде и пятнице. Для этого:\n",
    "\n",
    "* Разделим пользователей Москвы и Санкт-Петербурга.\n",
    "* Сравним, сколько треков послушала каждая группа пользователей в понедельник, среду и пятницу.\n"
   ]
  },
  {
   "cell_type": "code",
   "execution_count": 18,
   "metadata": {
    "deletable": false,
    "id": "0_Qs96oh_Zcu"
   },
   "outputs": [
    {
     "data": {
      "text/plain": [
       "city\n",
       "Moscow              42741\n",
       "Saint-Petersburg    18512\n",
       "Name: city, dtype: int64"
      ]
     },
     "execution_count": 18,
     "metadata": {},
     "output_type": "execute_result"
    }
   ],
   "source": [
    "# подсчёт прослушиваний в каждом городе\n",
    "df.groupby('city')['city'].count()"
   ]
  },
  {
   "cell_type": "code",
   "execution_count": 19,
   "metadata": {
    "deletable": false,
    "id": "uZMKjiJz_Zcu"
   },
   "outputs": [
    {
     "data": {
      "text/plain": [
       "day\n",
       "Friday       21840\n",
       "Monday       21354\n",
       "Wednesday    18059\n",
       "Name: day, dtype: int64"
      ]
     },
     "execution_count": 19,
     "metadata": {},
     "output_type": "execute_result"
    }
   ],
   "source": [
    "# подсчёт прослушиваний в каждый из трёх дней\n",
    "df.groupby('day')['day'].count()"
   ]
  },
  {
   "cell_type": "code",
   "execution_count": 20,
   "metadata": {
    "deletable": false,
    "id": "Nz3GdQB1_Zcu"
   },
   "outputs": [],
   "source": [
    "def number_tracks(day, city):\n",
    "    track_list = df[df['day'] == day] # выберите только строки df со значением переменной day в столбце day\n",
    "    track_list = track_list[track_list['city'] == city] # выберите только строки track_list со значением переменной city в столбце city\n",
    "    track_list_count = track_list['user_id'].count() # вызовите метод подсчета строк для track_list и выберите столбец user_id\n",
    "    return track_list_count # верните значение track_list_count из функции"
   ]
  },
  {
   "cell_type": "code",
   "execution_count": 21,
   "metadata": {
    "deletable": false,
    "id": "rJcRATNQ_Zcu"
   },
   "outputs": [
    {
     "data": {
      "text/plain": [
       "15740"
      ]
     },
     "execution_count": 21,
     "metadata": {},
     "output_type": "execute_result"
    }
   ],
   "source": [
    "# количество прослушиваний в Москве по понедельникам\n",
    "number_tracks('Monday', 'Moscow')"
   ]
  },
  {
   "cell_type": "code",
   "execution_count": 22,
   "metadata": {
    "deletable": false,
    "id": "hq_ncZ5T_Zcu"
   },
   "outputs": [
    {
     "data": {
      "text/plain": [
       "5614"
      ]
     },
     "execution_count": 22,
     "metadata": {},
     "output_type": "execute_result"
    }
   ],
   "source": [
    "# количество прослушиваний в Санкт-Петербурге по понедельникам\n",
    "number_tracks('Monday', 'Saint-Petersburg')"
   ]
  },
  {
   "cell_type": "code",
   "execution_count": 23,
   "metadata": {
    "deletable": false,
    "id": "_NTy2VPU_Zcu"
   },
   "outputs": [
    {
     "data": {
      "text/plain": [
       "11056"
      ]
     },
     "execution_count": 23,
     "metadata": {},
     "output_type": "execute_result"
    }
   ],
   "source": [
    "# количество прослушиваний в Москве по средам\n",
    "number_tracks('Wednesday', 'Moscow')"
   ]
  },
  {
   "cell_type": "code",
   "execution_count": 24,
   "metadata": {
    "deletable": false,
    "id": "j2y3TAwo_Zcu"
   },
   "outputs": [
    {
     "data": {
      "text/plain": [
       "7003"
      ]
     },
     "execution_count": 24,
     "metadata": {},
     "output_type": "execute_result"
    }
   ],
   "source": [
    "# количество прослушиваний в Санкт-Петербурге по средам\n",
    "number_tracks('Wednesday', 'Saint-Petersburg')"
   ]
  },
  {
   "cell_type": "code",
   "execution_count": 25,
   "metadata": {
    "deletable": false,
    "id": "vYDw5u_K_Zcu"
   },
   "outputs": [
    {
     "data": {
      "text/plain": [
       "15945"
      ]
     },
     "execution_count": 25,
     "metadata": {},
     "output_type": "execute_result"
    }
   ],
   "source": [
    "# количество прослушиваний в Москве по пятницам\n",
    "number_tracks('Friday', 'Moscow')"
   ]
  },
  {
   "cell_type": "code",
   "execution_count": 26,
   "metadata": {
    "deletable": false,
    "id": "8_yzFtW3_Zcu"
   },
   "outputs": [
    {
     "data": {
      "text/plain": [
       "5895"
      ]
     },
     "execution_count": 26,
     "metadata": {},
     "output_type": "execute_result"
    }
   ],
   "source": [
    "# количество прослушиваний в Санкт-Петербурге по пятницам\n",
    "number_tracks('Friday', 'Saint-Petersburg')"
   ]
  },
  {
   "cell_type": "code",
   "execution_count": 27,
   "metadata": {
    "deletable": false,
    "id": "APAcLpOr_Zcu"
   },
   "outputs": [
    {
     "data": {
      "text/html": [
       "<div>\n",
       "<style scoped>\n",
       "    .dataframe tbody tr th:only-of-type {\n",
       "        vertical-align: middle;\n",
       "    }\n",
       "\n",
       "    .dataframe tbody tr th {\n",
       "        vertical-align: top;\n",
       "    }\n",
       "\n",
       "    .dataframe thead th {\n",
       "        text-align: right;\n",
       "    }\n",
       "</style>\n",
       "<table border=\"1\" class=\"dataframe\">\n",
       "  <thead>\n",
       "    <tr style=\"text-align: right;\">\n",
       "      <th></th>\n",
       "      <th>city</th>\n",
       "      <th>monday</th>\n",
       "      <th>wednesday</th>\n",
       "      <th>friday</th>\n",
       "    </tr>\n",
       "  </thead>\n",
       "  <tbody>\n",
       "    <tr>\n",
       "      <th>0</th>\n",
       "      <td>Moscow</td>\n",
       "      <td>15740</td>\n",
       "      <td>11056</td>\n",
       "      <td>15945</td>\n",
       "    </tr>\n",
       "    <tr>\n",
       "      <th>1</th>\n",
       "      <td>Saint-Petersburg</td>\n",
       "      <td>5614</td>\n",
       "      <td>7003</td>\n",
       "      <td>5895</td>\n",
       "    </tr>\n",
       "  </tbody>\n",
       "</table>\n",
       "</div>"
      ],
      "text/plain": [
       "               city  monday  wednesday  friday\n",
       "0            Moscow   15740      11056   15945\n",
       "1  Saint-Petersburg    5614       7003    5895"
      ]
     },
     "execution_count": 27,
     "metadata": {},
     "output_type": "execute_result"
    }
   ],
   "source": [
    "# создание таблицы с результатами\n",
    "data = [\n",
    "    ['Moscow', 15740, 11056, 15945],\n",
    "    ['Saint-Petersburg', 5614, 7003, 5895]\n",
    "]\n",
    "columns_name = ['city', 'monday', 'wednesday', 'friday']\n",
    "info = pd.DataFrame(data=data, columns = columns_name)\n",
    "# вывод таблицы на экран\n",
    "info"
   ]
  },
  {
   "cell_type": "markdown",
   "metadata": {
    "deletable": false,
    "editable": false,
    "id": "-EgPIHYu_Zcu"
   },
   "source": [
    "**Промежуточные выводы**\n",
    "\n",
    "Данные показывают разницу поведения пользователей:\n",
    "\n",
    "- В Москве пик прослушиваний приходится на понедельник и пятницу, а в среду заметен спад.\n",
    "- В Петербурге, наоборот, больше слушают музыку по средам. Активность в понедельник и пятницу здесь почти в равной мере уступает среде.\n",
    "\n",
    "Значит, данные говорят в пользу первой гипотезы."
   ]
  },
  {
   "cell_type": "markdown",
   "metadata": {
    "deletable": false,
    "editable": false,
    "id": "atZAxtq4_Zcu"
   },
   "source": [
    "### Музыка в начале и в конце недели"
   ]
  },
  {
   "cell_type": "markdown",
   "metadata": {
    "deletable": false,
    "editable": false,
    "id": "eXrQqXFH_Zcu"
   },
   "source": [
    "Согласно второй гипотезе, утром в понедельник в Москве преобладают одни жанры, а в Петербурге — другие. Так же и вечером пятницы преобладают разные жанры — в зависимости от города."
   ]
  },
  {
   "cell_type": "code",
   "execution_count": 28,
   "metadata": {
    "deletable": false,
    "id": "qeaFfM_P_Zcu"
   },
   "outputs": [],
   "source": [
    "# получение таблицы moscow_general из тех строк таблицы df, для которых значение в столбце 'city' равно 'Moscow'\n",
    "moscow_general = df[df['city'] == 'Moscow']"
   ]
  },
  {
   "cell_type": "code",
   "execution_count": 29,
   "metadata": {
    "deletable": false,
    "id": "ORaVRKto_Zcu"
   },
   "outputs": [],
   "source": [
    "# получение таблицы spb_general из тех строк таблицы df, для которых значение в столбце 'city' равно 'Saint-Petersburg'\n",
    "spb_general = df[df['city'] == 'Saint-Petersburg']"
   ]
  },
  {
   "cell_type": "code",
   "execution_count": 30,
   "metadata": {
    "deletable": false,
    "id": "laJT9BYl_Zcu"
   },
   "outputs": [],
   "source": [
    "def genre_weekday(df, day, time1, time2): \n",
    "    # df - таблица (датафрейм) с данными,\n",
    "    # day - день недели,\n",
    "    # time1 - начальная временная метка в формате 'hh:mm',\n",
    "    # time2 - последняя временная метка в формате 'hh:mm'.\n",
    "    # последовательная фильтрация\n",
    "    # оставляем в genre_df только те строки df, у которых день равен day\n",
    "    genre_df = df[df['day'] == day] # ваш код здесь\n",
    "    # оставляем в genre_df только те строки genre_df, у которых время меньше time2\n",
    "    genre_df = genre_df[genre_df['time'] < time2] # ваш код здесь\n",
    "    # оставляем в genre_df только те строки genre_df, у которых время больше time1\n",
    "    genre_df = genre_df[genre_df['time'] > time1] # ваш код здесь\n",
    "    # сгруппируем отфильтрованный датафрейм по столбцу с названиями жанров, возьмём столбец genre и посчитаем кол-во строк для каждого жанра методом count()\n",
    "    genre_df_grouped = genre_df.groupby('genre')['genre'].count() # ваш код здесь\n",
    "    # отсортируем результат по убыванию (чтобы в начале Series оказались самые популярные жанры)\n",
    "    genre_df_sorted = genre_df_grouped.sort_values(ascending = False) # ваш код здесь\n",
    "    # вернём Series с 10 самыми популярными жанрами в указанный отрезок времени заданного дня\n",
    "    return genre_df_sorted[:10]\n"
   ]
  },
  {
   "cell_type": "code",
   "execution_count": 31,
   "metadata": {
    "deletable": false,
    "id": "yz7itPUQ_Zcu"
   },
   "outputs": [
    {
     "data": {
      "text/plain": [
       "genre\n",
       "pop            781\n",
       "dance          549\n",
       "electronic     480\n",
       "rock           474\n",
       "hiphop         286\n",
       "ruspop         186\n",
       "world          181\n",
       "rusrap         175\n",
       "alternative    164\n",
       "unknown        161\n",
       "Name: genre, dtype: int64"
      ]
     },
     "execution_count": 31,
     "metadata": {},
     "output_type": "execute_result"
    }
   ],
   "source": [
    "# вызов функции для утра понедельника в Москве (вместо df — таблица moscow_general)\n",
    "genre_weekday(moscow_general, 'Monday', '07:00', '11:00')"
   ]
  },
  {
   "cell_type": "code",
   "execution_count": 32,
   "metadata": {
    "deletable": false,
    "id": "kwUcHPdy_Zcu"
   },
   "outputs": [
    {
     "data": {
      "text/plain": [
       "genre\n",
       "pop            218\n",
       "dance          182\n",
       "rock           162\n",
       "electronic     147\n",
       "hiphop          80\n",
       "ruspop          64\n",
       "alternative     58\n",
       "rusrap          55\n",
       "jazz            44\n",
       "classical       40\n",
       "Name: genre, dtype: int64"
      ]
     },
     "execution_count": 32,
     "metadata": {},
     "output_type": "execute_result"
    }
   ],
   "source": [
    "# вызов функции для утра понедельника в Петербурге (вместо df — таблица spb_general)\n",
    "genre_weekday(spb_general, 'Monday', '07:00', '11:00')"
   ]
  },
  {
   "cell_type": "code",
   "execution_count": 33,
   "metadata": {
    "deletable": false,
    "id": "EzXVRE1o_Zcu"
   },
   "outputs": [
    {
     "data": {
      "text/plain": [
       "genre\n",
       "pop            713\n",
       "rock           517\n",
       "dance          495\n",
       "electronic     482\n",
       "hiphop         273\n",
       "world          208\n",
       "ruspop         170\n",
       "alternative    163\n",
       "classical      163\n",
       "rusrap         142\n",
       "Name: genre, dtype: int64"
      ]
     },
     "execution_count": 33,
     "metadata": {},
     "output_type": "execute_result"
    }
   ],
   "source": [
    "# вызов функции для вечера пятницы в Москве\n",
    "genre_weekday(moscow_general, 'Friday', '17:00', '23:00')"
   ]
  },
  {
   "cell_type": "code",
   "execution_count": 34,
   "metadata": {
    "deletable": false,
    "id": "JZaEKu5v_Zcu"
   },
   "outputs": [
    {
     "data": {
      "text/plain": [
       "genre\n",
       "pop            256\n",
       "electronic     216\n",
       "rock           216\n",
       "dance          210\n",
       "hiphop          97\n",
       "alternative     63\n",
       "jazz            61\n",
       "classical       60\n",
       "rusrap          59\n",
       "world           54\n",
       "Name: genre, dtype: int64"
      ]
     },
     "execution_count": 34,
     "metadata": {},
     "output_type": "execute_result"
    }
   ],
   "source": [
    "# вызов функции для вечера пятницы в Петербурге\n",
    "genre_weekday(spb_general, 'Friday', '17:00', '23:00')"
   ]
  },
  {
   "cell_type": "markdown",
   "metadata": {
    "deletable": false,
    "editable": false,
    "id": "wrCe4MNX_Zcu"
   },
   "source": [
    "**Промежуточные выводы**\n",
    "\n",
    "Если сравнить топ-10 жанров в понедельник утром, можно сделать такие выводы:\n",
    "\n",
    "1. В Москве и Петербурге слушают похожую музыку. Единственное различие — в московский рейтинг вошёл жанр “world”, а в петербургский — джаз и классика.\n",
    "\n",
    "2. В Москве пропущенных значений оказалось так много, что значение `'unknown'` заняло десятое место среди самых популярных жанров. Значит, пропущенные значения занимают существенную долю в данных и угрожают достоверности исследования.\n",
    "\n",
    "Вечер пятницы не меняет эту картину. Некоторые жанры поднимаются немного выше, другие спускаются, но в целом топ-10 остаётся тем же самым.\n",
    "\n",
    "Таким образом, вторая гипотеза подтвердилась лишь частично:\n",
    "* Пользователи слушают похожую музыку в начале недели и в конце.\n",
    "* Разница между Москвой и Петербургом не слишком выражена. В Москве чаще слушают русскую популярную музыку, в Петербурге — джаз.\n",
    "\n",
    "Однако пропуски в данных ставят под сомнение этот результат. В Москве их так много, что рейтинг топ-10 мог бы выглядеть иначе, если бы не утерянные  данные о жанрах."
   ]
  },
  {
   "cell_type": "markdown",
   "metadata": {
    "deletable": false,
    "editable": false,
    "id": "JolODAqr_Zcu"
   },
   "source": [
    "### Жанровые предпочтения в Москве и Петербурге\n",
    "\n",
    "Гипотеза: Петербург — столица рэпа, музыку этого жанра там слушают чаще, чем в Москве.  А Москва — город контрастов, в котором, тем не менее, преобладает поп-музыка."
   ]
  },
  {
   "cell_type": "code",
   "execution_count": 35,
   "metadata": {
    "deletable": false,
    "id": "r19lIPke_Zcu"
   },
   "outputs": [],
   "source": [
    "# одной строкой: группировка таблицы moscow_general по столбцу 'genre', выбор столбца `genre`, подсчёт числа значений 'genre' методом count(), сохранение в moscow_genres\n",
    "moscow_genres = moscow_general.groupby('genre')['genre'].count()\n",
    "# сортировка получившегося Series в порядке убывания и сохранение обратно в moscow_genres\n",
    "moscow_genres = moscow_genres.sort_values(ascending = False)"
   ]
  },
  {
   "cell_type": "code",
   "execution_count": 36,
   "metadata": {
    "deletable": false,
    "id": "WhCSooF8_Zcv"
   },
   "outputs": [
    {
     "data": {
      "text/plain": [
       "genre\n",
       "pop            5892\n",
       "dance          4435\n",
       "rock           3965\n",
       "electronic     3786\n",
       "hiphop         2096\n",
       "classical      1616\n",
       "world          1432\n",
       "alternative    1379\n",
       "ruspop         1372\n",
       "rusrap         1161\n",
       "Name: genre, dtype: int64"
      ]
     },
     "execution_count": 36,
     "metadata": {},
     "output_type": "execute_result"
    }
   ],
   "source": [
    "# просмотр первых 10 строк moscow_genres\n",
    "moscow_genres.head(10)"
   ]
  },
  {
   "cell_type": "code",
   "execution_count": 37,
   "metadata": {
    "deletable": false,
    "id": "gluLIpE7_Zcv"
   },
   "outputs": [],
   "source": [
    "# одной строкой: группировка таблицы spb_general по столбцу 'genre', выбор столбца `genre`, подсчёт числа значений 'genre' методом count(), сохранение в spb_genres\n",
    "spb_genres = spb_general.groupby('genre')['genre'].count()\n",
    "# сортировка получившегося Series в порядке убывания и сохранение обратно в spb_genres\n",
    "spb_genres = spb_genres.sort_values(ascending = False)"
   ]
  },
  {
   "cell_type": "code",
   "execution_count": 38,
   "metadata": {
    "deletable": false,
    "id": "uaGJHjVU_Zcv"
   },
   "outputs": [
    {
     "data": {
      "text/plain": [
       "genre\n",
       "pop            2431\n",
       "dance          1932\n",
       "rock           1879\n",
       "electronic     1736\n",
       "hiphop          960\n",
       "alternative     649\n",
       "classical       646\n",
       "rusrap          564\n",
       "ruspop          538\n",
       "world           515\n",
       "Name: genre, dtype: int64"
      ]
     },
     "execution_count": 38,
     "metadata": {},
     "output_type": "execute_result"
    }
   ],
   "source": [
    "# просмотр первых 10 строк spb_genres\n",
    "spb_genres.head(10)"
   ]
  },
  {
   "cell_type": "markdown",
   "metadata": {
    "deletable": false,
    "editable": false,
    "id": "nVhnJEm__Zcv"
   },
   "source": [
    "Гипотеза частично подтвердилась:\n",
    "* Поп-музыка — самый популярный жанр в Москве, как и предполагала гипотеза. Более того, в топ-10 жанров встречается близкий жанр — русская популярная музыка.\n",
    "* Вопреки ожиданиям, рэп одинаково популярен в Москве и Петербурге.\n"
   ]
  },
  {
   "cell_type": "markdown",
   "metadata": {
    "deletable": false,
    "editable": false,
    "id": "ykKQ0N65_Zcv"
   },
   "source": [
    "## Итоги исследования"
   ]
  },
  {
   "cell_type": "markdown",
   "metadata": {
    "deletable": false,
    "editable": false,
    "id": "tjUwbHb3_Zcv"
   },
   "source": [
    "Мы проверили три гипотезы и установили:\n",
    "\n",
    "1. День недели по-разному влияет на активность пользователей в Москве и Петербурге.\n",
    "\n",
    "Первая гипотеза полностью подтвердилась.\n",
    "\n",
    "2. Музыкальные предпочтения не сильно меняются в течение недели — будь то Москва или Петербург. Небольшие различия заметны в начале недели, по понедельникам:\n",
    "* в Москве слушают музыку жанра “world”,\n",
    "* в Петербурге — джаз и классику.\n",
    "\n",
    "Таким образом, вторая гипотеза подтвердилась лишь отчасти. Этот результат мог оказаться иным, если бы не пропуски в данных.\n",
    "\n",
    "3. Во вкусах пользователей Москвы и Петербурга больше общего, чем различий. Вопреки ожиданиям, предпочтения жанров в Петербурге напоминают московские.\n",
    "\n",
    "Третья гипотеза не подтвердилась. Если различия в предпочтениях и существуют, на основной массе пользователей они незаметны.\n",
    "\n",
    "\n",
    "P.S. - на данном этапе обучения я еще не знала о методах проверок гипотез."
   ]
  }
 ],
 "metadata": {
  "ExecuteTimeLog": [
   {
    "duration": 445,
    "start_time": "2024-10-23T15:10:27.912Z"
   },
   {
    "duration": 61,
    "start_time": "2024-10-23T15:11:01.187Z"
   },
   {
    "duration": 500,
    "start_time": "2024-10-23T15:12:31.403Z"
   },
   {
    "duration": 199,
    "start_time": "2024-10-23T15:12:35.072Z"
   },
   {
    "duration": 55,
    "start_time": "2024-10-23T15:12:54.048Z"
   },
   {
    "duration": 432,
    "start_time": "2024-10-23T15:13:15.623Z"
   },
   {
    "duration": 183,
    "start_time": "2024-10-23T15:13:19.013Z"
   },
   {
    "duration": 18,
    "start_time": "2024-10-23T15:14:29.687Z"
   },
   {
    "duration": 34,
    "start_time": "2024-10-23T15:16:50.120Z"
   },
   {
    "duration": 31,
    "start_time": "2024-10-23T15:17:57.338Z"
   },
   {
    "duration": 3,
    "start_time": "2024-10-23T15:23:54.804Z"
   },
   {
    "duration": 5,
    "start_time": "2024-10-23T15:24:51.697Z"
   },
   {
    "duration": 12,
    "start_time": "2024-10-23T15:29:20.936Z"
   },
   {
    "duration": 4,
    "start_time": "2024-10-23T15:30:49.700Z"
   },
   {
    "duration": 41,
    "start_time": "2024-10-23T18:28:05.113Z"
   },
   {
    "duration": 28,
    "start_time": "2024-10-23T18:28:22.998Z"
   },
   {
    "duration": 28,
    "start_time": "2024-10-23T18:28:48.012Z"
   },
   {
    "duration": 19,
    "start_time": "2024-10-23T18:37:00.384Z"
   },
   {
    "duration": 11,
    "start_time": "2024-10-23T18:37:14.922Z"
   },
   {
    "duration": 87,
    "start_time": "2024-10-23T18:42:19.061Z"
   },
   {
    "duration": 8,
    "start_time": "2024-10-23T18:43:17.655Z"
   },
   {
    "duration": 1033,
    "start_time": "2024-10-23T18:45:10.628Z"
   },
   {
    "duration": 31,
    "start_time": "2024-10-23T18:49:28.843Z"
   },
   {
    "duration": 39,
    "start_time": "2024-10-23T18:50:12.194Z"
   },
   {
    "duration": 31,
    "start_time": "2024-10-23T18:50:42.626Z"
   },
   {
    "duration": 17,
    "start_time": "2024-10-23T18:52:55.636Z"
   },
   {
    "duration": 17,
    "start_time": "2024-10-23T18:53:07.307Z"
   },
   {
    "duration": 11,
    "start_time": "2024-10-23T18:53:26.308Z"
   },
   {
    "duration": 424,
    "start_time": "2024-10-23T18:53:49.252Z"
   },
   {
    "duration": 232,
    "start_time": "2024-10-23T18:53:49.679Z"
   },
   {
    "duration": 20,
    "start_time": "2024-10-23T18:53:49.913Z"
   },
   {
    "duration": 60,
    "start_time": "2024-10-23T18:53:49.936Z"
   },
   {
    "duration": 4,
    "start_time": "2024-10-23T18:53:49.999Z"
   },
   {
    "duration": 36,
    "start_time": "2024-10-23T18:53:50.005Z"
   },
   {
    "duration": 15,
    "start_time": "2024-10-23T18:53:50.043Z"
   },
   {
    "duration": 7,
    "start_time": "2024-10-23T18:53:50.060Z"
   },
   {
    "duration": 63,
    "start_time": "2024-10-23T18:53:50.069Z"
   },
   {
    "duration": 61,
    "start_time": "2024-10-23T18:53:50.134Z"
   },
   {
    "duration": 2,
    "start_time": "2024-10-23T18:53:50.197Z"
   },
   {
    "duration": 3,
    "start_time": "2024-10-23T18:53:50.201Z"
   },
   {
    "duration": 15,
    "start_time": "2024-10-23T18:53:50.206Z"
   },
   {
    "duration": 3,
    "start_time": "2024-10-23T18:53:50.226Z"
   },
   {
    "duration": 6,
    "start_time": "2024-10-23T18:53:50.230Z"
   },
   {
    "duration": 3,
    "start_time": "2024-10-23T18:53:50.238Z"
   },
   {
    "duration": 3,
    "start_time": "2024-10-23T18:53:50.243Z"
   },
   {
    "duration": 5,
    "start_time": "2024-10-23T18:53:50.248Z"
   },
   {
    "duration": 4,
    "start_time": "2024-10-23T18:53:50.255Z"
   },
   {
    "duration": 102,
    "start_time": "2024-10-23T18:53:50.261Z"
   },
   {
    "duration": 0,
    "start_time": "2024-10-23T18:53:50.366Z"
   },
   {
    "duration": 0,
    "start_time": "2024-10-23T18:53:50.367Z"
   },
   {
    "duration": 0,
    "start_time": "2024-10-23T18:53:50.368Z"
   },
   {
    "duration": 0,
    "start_time": "2024-10-23T18:53:50.370Z"
   },
   {
    "duration": 0,
    "start_time": "2024-10-23T18:53:50.371Z"
   },
   {
    "duration": 0,
    "start_time": "2024-10-23T18:53:50.373Z"
   },
   {
    "duration": 0,
    "start_time": "2024-10-23T18:53:50.374Z"
   },
   {
    "duration": 0,
    "start_time": "2024-10-23T18:53:50.375Z"
   },
   {
    "duration": 0,
    "start_time": "2024-10-23T18:53:50.376Z"
   },
   {
    "duration": 0,
    "start_time": "2024-10-23T18:53:50.377Z"
   },
   {
    "duration": 0,
    "start_time": "2024-10-23T18:53:50.379Z"
   },
   {
    "duration": 0,
    "start_time": "2024-10-23T18:53:50.380Z"
   },
   {
    "duration": 0,
    "start_time": "2024-10-23T18:53:50.382Z"
   },
   {
    "duration": 0,
    "start_time": "2024-10-23T18:53:50.383Z"
   },
   {
    "duration": 0,
    "start_time": "2024-10-23T18:53:50.385Z"
   },
   {
    "duration": 0,
    "start_time": "2024-10-23T18:53:50.386Z"
   },
   {
    "duration": 0,
    "start_time": "2024-10-23T18:53:50.388Z"
   },
   {
    "duration": 0,
    "start_time": "2024-10-23T18:53:50.390Z"
   },
   {
    "duration": 18,
    "start_time": "2024-10-23T18:54:13.194Z"
   },
   {
    "duration": 461,
    "start_time": "2024-10-23T18:54:30.193Z"
   },
   {
    "duration": 202,
    "start_time": "2024-10-23T18:54:32.641Z"
   },
   {
    "duration": 31,
    "start_time": "2024-10-23T18:54:35.060Z"
   },
   {
    "duration": 16,
    "start_time": "2024-10-23T18:54:50.482Z"
   },
   {
    "duration": 38,
    "start_time": "2024-10-23T18:54:56.601Z"
   },
   {
    "duration": 3,
    "start_time": "2024-10-23T18:55:02.752Z"
   },
   {
    "duration": 3,
    "start_time": "2024-10-23T18:55:24.014Z"
   },
   {
    "duration": 197,
    "start_time": "2024-10-23T18:55:24.019Z"
   },
   {
    "duration": 16,
    "start_time": "2024-10-23T18:55:24.217Z"
   },
   {
    "duration": 68,
    "start_time": "2024-10-23T18:55:24.234Z"
   },
   {
    "duration": 7,
    "start_time": "2024-10-23T18:55:24.304Z"
   },
   {
    "duration": 5,
    "start_time": "2024-10-23T18:55:24.312Z"
   },
   {
    "duration": 12,
    "start_time": "2024-10-23T18:55:24.319Z"
   },
   {
    "duration": 8,
    "start_time": "2024-10-23T18:55:24.332Z"
   },
   {
    "duration": 28,
    "start_time": "2024-10-23T18:55:24.341Z"
   },
   {
    "duration": 56,
    "start_time": "2024-10-23T18:55:24.371Z"
   },
   {
    "duration": 2,
    "start_time": "2024-10-23T18:55:24.429Z"
   },
   {
    "duration": 34,
    "start_time": "2024-10-23T18:55:24.433Z"
   },
   {
    "duration": 3,
    "start_time": "2024-10-23T18:55:24.469Z"
   },
   {
    "duration": 3,
    "start_time": "2024-10-23T18:55:24.476Z"
   },
   {
    "duration": 15,
    "start_time": "2024-10-23T18:55:24.481Z"
   },
   {
    "duration": 20,
    "start_time": "2024-10-23T18:55:24.497Z"
   },
   {
    "duration": 35,
    "start_time": "2024-10-23T18:55:24.519Z"
   },
   {
    "duration": 10,
    "start_time": "2024-10-23T18:55:24.556Z"
   },
   {
    "duration": 16,
    "start_time": "2024-10-23T18:55:24.568Z"
   },
   {
    "duration": 58,
    "start_time": "2024-10-23T18:55:24.585Z"
   },
   {
    "duration": 0,
    "start_time": "2024-10-23T18:55:24.644Z"
   },
   {
    "duration": 0,
    "start_time": "2024-10-23T18:55:24.646Z"
   },
   {
    "duration": 0,
    "start_time": "2024-10-23T18:55:24.647Z"
   },
   {
    "duration": 0,
    "start_time": "2024-10-23T18:55:24.648Z"
   },
   {
    "duration": 0,
    "start_time": "2024-10-23T18:55:24.649Z"
   },
   {
    "duration": 0,
    "start_time": "2024-10-23T18:55:24.651Z"
   },
   {
    "duration": 0,
    "start_time": "2024-10-23T18:55:24.652Z"
   },
   {
    "duration": 0,
    "start_time": "2024-10-23T18:55:24.653Z"
   },
   {
    "duration": 1,
    "start_time": "2024-10-23T18:55:24.654Z"
   },
   {
    "duration": 1,
    "start_time": "2024-10-23T18:55:24.655Z"
   },
   {
    "duration": 0,
    "start_time": "2024-10-23T18:55:24.657Z"
   },
   {
    "duration": 0,
    "start_time": "2024-10-23T18:55:24.658Z"
   },
   {
    "duration": 0,
    "start_time": "2024-10-23T18:55:24.659Z"
   },
   {
    "duration": 0,
    "start_time": "2024-10-23T18:55:24.660Z"
   },
   {
    "duration": 0,
    "start_time": "2024-10-23T18:55:24.661Z"
   },
   {
    "duration": 0,
    "start_time": "2024-10-23T18:55:24.663Z"
   },
   {
    "duration": 0,
    "start_time": "2024-10-23T18:55:24.664Z"
   },
   {
    "duration": 0,
    "start_time": "2024-10-23T18:55:24.665Z"
   },
   {
    "duration": 34,
    "start_time": "2024-10-23T18:56:20.250Z"
   },
   {
    "duration": 29,
    "start_time": "2024-10-23T18:57:17.310Z"
   },
   {
    "duration": 79,
    "start_time": "2024-10-23T18:58:56.142Z"
   },
   {
    "duration": 89,
    "start_time": "2024-10-23T19:02:30.060Z"
   },
   {
    "duration": 68,
    "start_time": "2024-10-23T19:03:05.436Z"
   },
   {
    "duration": 8,
    "start_time": "2024-10-23T19:10:24.665Z"
   },
   {
    "duration": 101,
    "start_time": "2024-10-23T19:11:55.450Z"
   },
   {
    "duration": 94,
    "start_time": "2024-10-23T19:12:10.089Z"
   },
   {
    "duration": 8,
    "start_time": "2024-10-23T19:14:02.257Z"
   },
   {
    "duration": 56,
    "start_time": "2024-10-23T19:14:21.473Z"
   },
   {
    "duration": 60,
    "start_time": "2024-10-23T19:17:02.046Z"
   },
   {
    "duration": 85,
    "start_time": "2024-10-23T19:17:35.650Z"
   },
   {
    "duration": 67,
    "start_time": "2024-10-23T19:18:18.128Z"
   },
   {
    "duration": 6,
    "start_time": "2024-10-23T19:21:55.704Z"
   },
   {
    "duration": 9,
    "start_time": "2024-10-23T19:23:34.587Z"
   },
   {
    "duration": 40,
    "start_time": "2024-10-23T19:23:42.736Z"
   },
   {
    "duration": 43,
    "start_time": "2024-10-23T19:23:59.083Z"
   },
   {
    "duration": 54,
    "start_time": "2024-10-23T19:24:49.770Z"
   },
   {
    "duration": 48,
    "start_time": "2024-10-23T19:25:36.636Z"
   },
   {
    "duration": 64,
    "start_time": "2024-10-23T19:27:45.502Z"
   },
   {
    "duration": 60,
    "start_time": "2024-10-23T19:28:46.103Z"
   },
   {
    "duration": 11,
    "start_time": "2024-10-23T19:33:42.020Z"
   },
   {
    "duration": 60,
    "start_time": "2024-10-23T19:34:01.637Z"
   },
   {
    "duration": 95,
    "start_time": "2024-10-23T19:34:52.569Z"
   },
   {
    "duration": 85,
    "start_time": "2024-10-23T20:39:43.624Z"
   },
   {
    "duration": 13,
    "start_time": "2024-10-23T20:39:53.576Z"
   },
   {
    "duration": 12,
    "start_time": "2024-10-23T20:40:02.954Z"
   },
   {
    "duration": 19,
    "start_time": "2024-10-23T20:42:00.689Z"
   },
   {
    "duration": 36,
    "start_time": "2024-10-23T20:42:31.757Z"
   },
   {
    "duration": 7,
    "start_time": "2024-10-23T20:46:32.706Z"
   },
   {
    "duration": 10,
    "start_time": "2024-10-23T20:46:52.924Z"
   },
   {
    "duration": 37,
    "start_time": "2024-10-23T20:47:36.804Z"
   },
   {
    "duration": 74,
    "start_time": "2024-10-23T20:48:46.033Z"
   },
   {
    "duration": 14,
    "start_time": "2024-10-23T20:48:52.939Z"
   },
   {
    "duration": 35,
    "start_time": "2024-10-23T20:49:04.706Z"
   },
   {
    "duration": 8,
    "start_time": "2024-10-23T20:50:16.448Z"
   },
   {
    "duration": 40,
    "start_time": "2024-10-23T20:50:57.807Z"
   },
   {
    "duration": 21,
    "start_time": "2024-10-23T20:54:05.214Z"
   },
   {
    "duration": 17,
    "start_time": "2024-10-23T20:54:30.639Z"
   },
   {
    "duration": 16,
    "start_time": "2024-10-23T20:56:47.618Z"
   },
   {
    "duration": 45,
    "start_time": "2024-10-23T20:56:59.962Z"
   },
   {
    "duration": 48,
    "start_time": "2024-10-23T20:57:33.170Z"
   },
   {
    "duration": 60,
    "start_time": "2024-10-23T20:58:06.139Z"
   },
   {
    "duration": 43,
    "start_time": "2024-10-23T20:58:53.756Z"
   },
   {
    "duration": 27,
    "start_time": "2024-10-23T21:00:54.931Z"
   },
   {
    "duration": 17,
    "start_time": "2024-10-23T21:01:09.871Z"
   },
   {
    "duration": 17,
    "start_time": "2024-10-23T21:04:52.855Z"
   },
   {
    "duration": 13,
    "start_time": "2024-10-23T21:05:37.785Z"
   },
   {
    "duration": 11,
    "start_time": "2024-10-23T21:08:00.721Z"
   },
   {
    "duration": 4,
    "start_time": "2024-10-23T21:11:56.115Z"
   },
   {
    "duration": 13,
    "start_time": "2024-10-23T21:13:58.535Z"
   },
   {
    "duration": 7,
    "start_time": "2024-10-23T21:14:08.646Z"
   },
   {
    "duration": 3,
    "start_time": "2024-10-23T21:14:39.585Z"
   },
   {
    "duration": 3,
    "start_time": "2024-10-23T21:14:45.352Z"
   },
   {
    "duration": 3,
    "start_time": "2024-10-23T21:14:56.187Z"
   },
   {
    "duration": 3,
    "start_time": "2024-10-23T21:15:00.320Z"
   },
   {
    "duration": 3,
    "start_time": "2024-10-23T21:16:52.088Z"
   },
   {
    "duration": 9,
    "start_time": "2024-10-23T21:16:57.019Z"
   },
   {
    "duration": 3,
    "start_time": "2024-10-23T21:17:06.178Z"
   },
   {
    "duration": 4,
    "start_time": "2024-10-23T21:17:17.684Z"
   },
   {
    "duration": 4,
    "start_time": "2024-10-23T21:17:28.885Z"
   },
   {
    "duration": 3,
    "start_time": "2024-10-23T21:17:31.086Z"
   },
   {
    "duration": 4,
    "start_time": "2024-10-23T21:19:28.918Z"
   },
   {
    "duration": 3,
    "start_time": "2024-10-23T21:19:52.502Z"
   },
   {
    "duration": 3,
    "start_time": "2024-10-23T21:19:55.035Z"
   },
   {
    "duration": 3,
    "start_time": "2024-10-23T21:20:03.968Z"
   },
   {
    "duration": 9,
    "start_time": "2024-10-23T21:22:06.849Z"
   },
   {
    "duration": 9,
    "start_time": "2024-10-23T21:22:39.275Z"
   },
   {
    "duration": 8,
    "start_time": "2024-10-23T21:24:49.368Z"
   },
   {
    "duration": 3,
    "start_time": "2024-10-23T21:25:01.218Z"
   },
   {
    "duration": 22,
    "start_time": "2024-10-23T21:25:34.965Z"
   },
   {
    "duration": 16,
    "start_time": "2024-10-23T21:25:50.380Z"
   },
   {
    "duration": 26,
    "start_time": "2024-10-23T21:26:37.067Z"
   },
   {
    "duration": 24,
    "start_time": "2024-10-23T21:27:04.614Z"
   },
   {
    "duration": 20,
    "start_time": "2024-10-23T21:28:15.350Z"
   },
   {
    "duration": 27,
    "start_time": "2024-10-23T21:28:31.614Z"
   },
   {
    "duration": 22,
    "start_time": "2024-10-23T21:28:49.966Z"
   },
   {
    "duration": 22,
    "start_time": "2024-10-23T21:29:30.265Z"
   },
   {
    "duration": 19,
    "start_time": "2024-10-23T21:30:36.032Z"
   },
   {
    "duration": 4,
    "start_time": "2024-10-23T21:30:52.149Z"
   },
   {
    "duration": 20,
    "start_time": "2024-10-23T21:32:23.565Z"
   },
   {
    "duration": 17,
    "start_time": "2024-10-23T21:32:42.162Z"
   },
   {
    "duration": 16,
    "start_time": "2024-10-23T21:33:23.976Z"
   },
   {
    "duration": 15,
    "start_time": "2024-10-23T21:33:26.083Z"
   },
   {
    "duration": 18,
    "start_time": "2024-10-23T21:33:27.966Z"
   },
   {
    "duration": 16,
    "start_time": "2024-10-23T21:33:30.149Z"
   },
   {
    "duration": 10,
    "start_time": "2024-10-23T21:41:38.931Z"
   },
   {
    "duration": 9,
    "start_time": "2024-10-23T21:45:39.129Z"
   },
   {
    "duration": 11,
    "start_time": "2024-10-23T21:45:58.783Z"
   },
   {
    "duration": 8,
    "start_time": "2024-10-23T21:46:52.264Z"
   },
   {
    "duration": 18,
    "start_time": "2024-10-23T21:47:41.612Z"
   },
   {
    "duration": 14,
    "start_time": "2024-10-23T21:49:24.662Z"
   },
   {
    "duration": 8,
    "start_time": "2024-10-23T21:54:56.044Z"
   },
   {
    "duration": 4,
    "start_time": "2024-10-23T21:57:27.080Z"
   },
   {
    "duration": 9,
    "start_time": "2024-10-23T21:57:36.679Z"
   },
   {
    "duration": 4,
    "start_time": "2024-10-23T22:04:26.352Z"
   },
   {
    "duration": 13,
    "start_time": "2024-10-23T22:04:34.225Z"
   },
   {
    "duration": 14,
    "start_time": "2024-10-23T22:06:20.335Z"
   },
   {
    "duration": 21,
    "start_time": "2024-10-23T22:07:20.277Z"
   },
   {
    "duration": 23,
    "start_time": "2024-10-23T22:08:09.593Z"
   },
   {
    "duration": 39,
    "start_time": "2024-10-23T22:08:29.243Z"
   },
   {
    "duration": 39,
    "start_time": "2024-10-23T22:08:41.675Z"
   },
   {
    "duration": 22,
    "start_time": "2024-10-23T22:09:30.036Z"
   },
   {
    "duration": 14,
    "start_time": "2024-10-23T22:09:58.959Z"
   },
   {
    "duration": 24,
    "start_time": "2024-10-23T22:10:19.372Z"
   },
   {
    "duration": 22,
    "start_time": "2024-10-23T22:10:32.620Z"
   },
   {
    "duration": 5,
    "start_time": "2024-10-23T22:13:35.794Z"
   },
   {
    "duration": 5,
    "start_time": "2024-10-23T22:13:40.468Z"
   },
   {
    "duration": 5,
    "start_time": "2024-10-23T22:14:33.578Z"
   },
   {
    "duration": 5,
    "start_time": "2024-10-23T22:15:00.666Z"
   },
   {
    "duration": 5,
    "start_time": "2024-10-23T22:15:06.443Z"
   },
   {
    "duration": 5,
    "start_time": "2024-10-23T22:15:28.859Z"
   },
   {
    "duration": 6,
    "start_time": "2024-10-23T22:16:11.472Z"
   },
   {
    "duration": 5,
    "start_time": "2024-10-23T22:18:44.675Z"
   },
   {
    "duration": 5,
    "start_time": "2024-10-23T22:18:53.966Z"
   },
   {
    "duration": 13,
    "start_time": "2024-10-23T22:19:31.867Z"
   },
   {
    "duration": 37,
    "start_time": "2024-10-23T22:20:16.725Z"
   },
   {
    "duration": 293,
    "start_time": "2024-10-23T22:20:51.791Z"
   },
   {
    "duration": 35,
    "start_time": "2024-10-23T22:21:09.174Z"
   },
   {
    "duration": 34,
    "start_time": "2024-10-23T22:22:03.340Z"
   },
   {
    "duration": 36,
    "start_time": "2024-10-23T22:22:27.023Z"
   },
   {
    "duration": 291,
    "start_time": "2024-10-23T22:23:42.400Z"
   },
   {
    "duration": 513,
    "start_time": "2024-10-23T22:24:06.442Z"
   },
   {
    "duration": 45,
    "start_time": "2024-10-23T22:25:17.748Z"
   },
   {
    "duration": 74,
    "start_time": "2024-10-23T22:26:06.886Z"
   },
   {
    "duration": 77,
    "start_time": "2024-10-23T22:27:03.149Z"
   },
   {
    "duration": 82,
    "start_time": "2024-10-23T22:27:35.791Z"
   },
   {
    "duration": 78,
    "start_time": "2024-10-23T22:28:57.603Z"
   },
   {
    "duration": 81,
    "start_time": "2024-10-23T22:30:37.290Z"
   },
   {
    "duration": 8,
    "start_time": "2024-10-23T22:31:33.623Z"
   },
   {
    "duration": 71,
    "start_time": "2024-10-23T22:32:31.890Z"
   },
   {
    "duration": 22,
    "start_time": "2024-10-23T22:36:59.246Z"
   },
   {
    "duration": 21,
    "start_time": "2024-10-23T22:38:10.722Z"
   },
   {
    "duration": 79,
    "start_time": "2024-10-23T22:42:52.803Z"
   },
   {
    "duration": 64,
    "start_time": "2024-10-23T22:43:14.672Z"
   },
   {
    "duration": 8,
    "start_time": "2024-10-23T22:43:30.766Z"
   },
   {
    "duration": 75,
    "start_time": "2024-10-23T22:43:50.504Z"
   },
   {
    "duration": 76,
    "start_time": "2024-10-23T22:43:53.455Z"
   },
   {
    "duration": 80,
    "start_time": "2024-10-23T22:44:03.554Z"
   },
   {
    "duration": 21,
    "start_time": "2024-10-23T22:44:28.248Z"
   },
   {
    "duration": 82,
    "start_time": "2024-10-23T22:44:52.397Z"
   },
   {
    "duration": 65,
    "start_time": "2024-10-23T22:45:46.419Z"
   },
   {
    "duration": 5,
    "start_time": "2024-10-23T22:45:53.335Z"
   },
   {
    "duration": 71,
    "start_time": "2024-10-23T22:46:13.538Z"
   },
   {
    "duration": 70,
    "start_time": "2024-10-23T22:47:34.583Z"
   },
   {
    "duration": 73,
    "start_time": "2024-10-23T22:47:38.919Z"
   },
   {
    "duration": 74,
    "start_time": "2024-10-23T22:48:02.363Z"
   },
   {
    "duration": 73,
    "start_time": "2024-10-23T22:48:16.253Z"
   },
   {
    "duration": 77,
    "start_time": "2024-10-23T22:48:43.570Z"
   },
   {
    "duration": 73,
    "start_time": "2024-10-23T22:49:36.919Z"
   },
   {
    "duration": 77,
    "start_time": "2024-10-23T22:50:14.885Z"
   },
   {
    "duration": 24,
    "start_time": "2024-10-23T22:53:06.552Z"
   },
   {
    "duration": 73,
    "start_time": "2024-10-23T22:53:30.420Z"
   },
   {
    "duration": 78,
    "start_time": "2024-10-23T22:55:35.967Z"
   },
   {
    "duration": 83,
    "start_time": "2024-10-23T22:59:15.584Z"
   },
   {
    "duration": 76,
    "start_time": "2024-10-23T22:59:38.519Z"
   },
   {
    "duration": 78,
    "start_time": "2024-10-23T22:59:49.951Z"
   },
   {
    "duration": 79,
    "start_time": "2024-10-23T23:00:28.135Z"
   },
   {
    "duration": 76,
    "start_time": "2024-10-23T23:02:10.442Z"
   },
   {
    "duration": 76,
    "start_time": "2024-10-23T23:03:07.685Z"
   },
   {
    "duration": 76,
    "start_time": "2024-10-23T23:03:20.934Z"
   },
   {
    "duration": 78,
    "start_time": "2024-10-23T23:03:41.885Z"
   },
   {
    "duration": 78,
    "start_time": "2024-10-23T23:03:49.485Z"
   },
   {
    "duration": 77,
    "start_time": "2024-10-23T23:04:09.394Z"
   },
   {
    "duration": 83,
    "start_time": "2024-10-23T23:04:30.348Z"
   },
   {
    "duration": 67,
    "start_time": "2024-10-23T23:07:59.682Z"
   },
   {
    "duration": 192,
    "start_time": "2024-10-23T23:08:12.602Z"
   },
   {
    "duration": 82,
    "start_time": "2024-10-23T23:08:25.783Z"
   },
   {
    "duration": 15,
    "start_time": "2024-10-23T23:10:05.817Z"
   },
   {
    "duration": 18,
    "start_time": "2024-10-23T23:10:22.550Z"
   },
   {
    "duration": 22,
    "start_time": "2024-10-23T23:10:49.167Z"
   },
   {
    "duration": 80,
    "start_time": "2024-10-23T23:11:12.566Z"
   },
   {
    "duration": 71,
    "start_time": "2024-10-23T23:11:18.917Z"
   },
   {
    "duration": 69,
    "start_time": "2024-10-23T23:12:34.361Z"
   },
   {
    "duration": 78,
    "start_time": "2024-10-23T23:12:53.076Z"
   },
   {
    "duration": 81,
    "start_time": "2024-10-23T23:15:06.667Z"
   },
   {
    "duration": 79,
    "start_time": "2024-10-23T23:15:33.031Z"
   },
   {
    "duration": 77,
    "start_time": "2024-10-23T23:16:02.484Z"
   },
   {
    "duration": 74,
    "start_time": "2024-10-23T23:16:12.133Z"
   },
   {
    "duration": 76,
    "start_time": "2024-10-23T23:17:18.358Z"
   },
   {
    "duration": 76,
    "start_time": "2024-10-23T23:17:47.000Z"
   },
   {
    "duration": 81,
    "start_time": "2024-10-23T23:19:07.615Z"
   },
   {
    "duration": 78,
    "start_time": "2024-10-23T23:20:20.798Z"
   },
   {
    "duration": 85,
    "start_time": "2024-10-23T23:21:09.848Z"
   },
   {
    "duration": 1064,
    "start_time": "2024-10-23T23:21:32.979Z"
   },
   {
    "duration": 1149,
    "start_time": "2024-10-23T23:21:41.297Z"
   },
   {
    "duration": 73,
    "start_time": "2024-10-23T23:22:19.315Z"
   },
   {
    "duration": 77,
    "start_time": "2024-10-23T23:23:04.314Z"
   },
   {
    "duration": 89,
    "start_time": "2024-10-23T23:25:46.681Z"
   },
   {
    "duration": 76,
    "start_time": "2024-10-23T23:26:36.380Z"
   },
   {
    "duration": 76,
    "start_time": "2024-10-23T23:26:57.593Z"
   },
   {
    "duration": 79,
    "start_time": "2024-10-23T23:28:20.598Z"
   },
   {
    "duration": 77,
    "start_time": "2024-10-23T23:29:01.660Z"
   },
   {
    "duration": 5,
    "start_time": "2024-10-23T23:29:16.330Z"
   },
   {
    "duration": 70,
    "start_time": "2024-10-23T23:29:26.264Z"
   },
   {
    "duration": 77,
    "start_time": "2024-10-23T23:29:30.831Z"
   },
   {
    "duration": 81,
    "start_time": "2024-10-23T23:29:45.280Z"
   },
   {
    "duration": 81,
    "start_time": "2024-10-23T23:30:06.111Z"
   },
   {
    "duration": 76,
    "start_time": "2024-10-23T23:34:10.545Z"
   },
   {
    "duration": 82,
    "start_time": "2024-10-23T23:34:21.514Z"
   },
   {
    "duration": 81,
    "start_time": "2024-10-23T23:34:51.727Z"
   },
   {
    "duration": 64,
    "start_time": "2024-10-23T23:38:09.388Z"
   },
   {
    "duration": 62,
    "start_time": "2024-10-23T23:38:19.560Z"
   },
   {
    "duration": 69,
    "start_time": "2024-10-23T23:38:42.812Z"
   },
   {
    "duration": 9,
    "start_time": "2024-10-23T23:38:59.911Z"
   },
   {
    "duration": 11,
    "start_time": "2024-10-23T23:42:33.510Z"
   },
   {
    "duration": 22,
    "start_time": "2024-10-23T23:42:40.908Z"
   },
   {
    "duration": 16,
    "start_time": "2024-10-23T23:44:02.376Z"
   },
   {
    "duration": 71,
    "start_time": "2024-10-23T23:50:44.759Z"
   },
   {
    "duration": 71,
    "start_time": "2024-10-23T23:51:37.893Z"
   },
   {
    "duration": 66,
    "start_time": "2024-10-23T23:52:21.911Z"
   },
   {
    "duration": 62,
    "start_time": "2024-10-23T23:52:30.526Z"
   },
   {
    "duration": 74,
    "start_time": "2024-10-23T23:52:35.725Z"
   },
   {
    "duration": 62,
    "start_time": "2024-10-23T23:52:49.003Z"
   },
   {
    "duration": 4,
    "start_time": "2024-10-23T23:53:01.055Z"
   },
   {
    "duration": 4,
    "start_time": "2024-10-23T23:54:17.895Z"
   },
   {
    "duration": 6,
    "start_time": "2024-10-23T23:54:20.409Z"
   },
   {
    "duration": 5,
    "start_time": "2024-10-23T23:55:53.805Z"
   },
   {
    "duration": 71,
    "start_time": "2024-10-23T23:56:35.741Z"
   },
   {
    "duration": 4,
    "start_time": "2024-10-23T23:57:07.639Z"
   },
   {
    "duration": 70,
    "start_time": "2024-10-23T23:57:45.410Z"
   },
   {
    "duration": 4,
    "start_time": "2024-10-23T23:58:06.307Z"
   },
   {
    "duration": 65,
    "start_time": "2024-10-23T23:58:09.844Z"
   },
   {
    "duration": 12,
    "start_time": "2024-10-23T23:58:49.308Z"
   },
   {
    "duration": 22,
    "start_time": "2024-10-24T00:00:35.309Z"
   },
   {
    "duration": 4,
    "start_time": "2024-10-24T00:02:16.360Z"
   },
   {
    "duration": 25,
    "start_time": "2024-10-24T00:11:21.475Z"
   },
   {
    "duration": 17,
    "start_time": "2024-10-24T00:12:45.436Z"
   },
   {
    "duration": 4,
    "start_time": "2024-10-24T00:14:11.473Z"
   },
   {
    "duration": 22,
    "start_time": "2024-10-24T00:14:14.973Z"
   },
   {
    "duration": 5,
    "start_time": "2024-10-24T00:15:07.073Z"
   },
   {
    "duration": 16,
    "start_time": "2024-10-24T00:15:10.090Z"
   },
   {
    "duration": 16,
    "start_time": "2024-10-24T00:15:22.457Z"
   },
   {
    "duration": 20,
    "start_time": "2024-10-24T00:15:32.606Z"
   },
   {
    "duration": 15,
    "start_time": "2024-10-24T00:15:35.757Z"
   },
   {
    "duration": 11,
    "start_time": "2024-10-24T00:22:43.155Z"
   },
   {
    "duration": 5,
    "start_time": "2024-10-24T00:23:27.554Z"
   },
   {
    "duration": 6,
    "start_time": "2024-10-24T00:25:21.349Z"
   },
   {
    "duration": 7,
    "start_time": "2024-10-24T00:25:29.021Z"
   },
   {
    "duration": 7,
    "start_time": "2024-10-24T00:25:31.271Z"
   },
   {
    "duration": 5,
    "start_time": "2024-10-24T00:25:50.086Z"
   },
   {
    "duration": 4,
    "start_time": "2024-10-24T00:26:12.670Z"
   },
   {
    "duration": 415,
    "start_time": "2025-08-06T22:10:11.226Z"
   },
   {
    "duration": 432,
    "start_time": "2025-08-06T22:10:11.643Z"
   },
   {
    "duration": 16,
    "start_time": "2025-08-06T22:10:12.077Z"
   },
   {
    "duration": 29,
    "start_time": "2025-08-06T22:10:12.094Z"
   },
   {
    "duration": 8,
    "start_time": "2025-08-06T22:10:12.125Z"
   },
   {
    "duration": 5,
    "start_time": "2025-08-06T22:10:12.134Z"
   },
   {
    "duration": 12,
    "start_time": "2025-08-06T22:10:12.141Z"
   },
   {
    "duration": 5,
    "start_time": "2025-08-06T22:10:12.155Z"
   },
   {
    "duration": 26,
    "start_time": "2025-08-06T22:10:12.162Z"
   },
   {
    "duration": 28,
    "start_time": "2025-08-06T22:10:12.189Z"
   },
   {
    "duration": 35,
    "start_time": "2025-08-06T22:10:12.219Z"
   },
   {
    "duration": 69,
    "start_time": "2025-08-06T22:10:12.255Z"
   },
   {
    "duration": 75,
    "start_time": "2025-08-06T22:10:12.325Z"
   },
   {
    "duration": 66,
    "start_time": "2025-08-06T22:10:12.404Z"
   },
   {
    "duration": 49,
    "start_time": "2025-08-06T22:10:12.471Z"
   },
   {
    "duration": 20,
    "start_time": "2025-08-06T22:10:12.522Z"
   },
   {
    "duration": 47,
    "start_time": "2025-08-06T22:10:12.543Z"
   },
   {
    "duration": 11,
    "start_time": "2025-08-06T22:10:12.591Z"
   },
   {
    "duration": 10,
    "start_time": "2025-08-06T22:10:12.604Z"
   },
   {
    "duration": 4,
    "start_time": "2025-08-06T22:10:12.639Z"
   },
   {
    "duration": 33,
    "start_time": "2025-08-06T22:10:12.645Z"
   },
   {
    "duration": 14,
    "start_time": "2025-08-06T22:10:12.680Z"
   },
   {
    "duration": 15,
    "start_time": "2025-08-06T22:10:12.696Z"
   },
   {
    "duration": 30,
    "start_time": "2025-08-06T22:10:12.712Z"
   },
   {
    "duration": 15,
    "start_time": "2025-08-06T22:10:12.743Z"
   },
   {
    "duration": 53,
    "start_time": "2025-08-06T22:10:12.759Z"
   },
   {
    "duration": 10,
    "start_time": "2025-08-06T22:10:12.814Z"
   },
   {
    "duration": 18,
    "start_time": "2025-08-06T22:10:12.825Z"
   },
   {
    "duration": 38,
    "start_time": "2025-08-06T22:10:12.844Z"
   },
   {
    "duration": 3,
    "start_time": "2025-08-06T22:10:12.884Z"
   },
   {
    "duration": 20,
    "start_time": "2025-08-06T22:10:12.889Z"
   },
   {
    "duration": 10,
    "start_time": "2025-08-06T22:10:12.911Z"
   },
   {
    "duration": 29,
    "start_time": "2025-08-06T22:10:12.922Z"
   },
   {
    "duration": 10,
    "start_time": "2025-08-06T22:10:12.953Z"
   },
   {
    "duration": 12,
    "start_time": "2025-08-06T22:10:12.965Z"
   },
   {
    "duration": 3,
    "start_time": "2025-08-06T22:10:12.979Z"
   },
   {
    "duration": 11,
    "start_time": "2025-08-06T22:10:12.983Z"
   },
   {
    "duration": 3,
    "start_time": "2025-08-06T22:10:12.996Z"
   }
  ],
  "celltoolbar": "Отсутствует",
  "colab": {
   "collapsed_sections": [
    "E0vqbgi9ay0H",
    "VUC88oWjTJw2"
   ],
   "provenance": []
  },
  "kernelspec": {
   "display_name": "Python 3 (ipykernel)",
   "language": "python",
   "name": "python3"
  },
  "language_info": {
   "codemirror_mode": {
    "name": "ipython",
    "version": 3
   },
   "file_extension": ".py",
   "mimetype": "text/x-python",
   "name": "python",
   "nbconvert_exporter": "python",
   "pygments_lexer": "ipython3",
   "version": "3.9.5"
  },
  "toc": {
   "base_numbering": 1,
   "nav_menu": {
    "height": "215px",
    "width": "403px"
   },
   "number_sections": true,
   "sideBar": true,
   "skip_h1_title": true,
   "title_cell": "Table of Contents",
   "title_sidebar": "Contents",
   "toc_cell": false,
   "toc_position": {
    "height": "calc(100% - 180px)",
    "left": "10px",
    "top": "150px",
    "width": "285.825px"
   },
   "toc_section_display": true,
   "toc_window_display": false
  }
 },
 "nbformat": 4,
 "nbformat_minor": 1
}
